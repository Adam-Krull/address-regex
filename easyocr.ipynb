{
 "cells": [
  {
   "cell_type": "markdown",
   "metadata": {},
   "source": [
    "The purpose of this document is to try out the [EasyOCR](https://github.com/JaidedAI/EasyOCR) library. This one consistently garnered the most praise, and it was rumored to outperform the pytesseract library (which is a wrapper for GoogleOCR). I will give it a shot with a few of my more challenging example invoices, and see if it returns cleaner text than I currently have in my dataset."
   ]
  },
  {
   "cell_type": "code",
   "execution_count": 11,
   "metadata": {},
   "outputs": [],
   "source": [
    "import cv2\n",
    "import easyocr\n",
    "import json\n",
    "import os\n",
    "from PIL import Image"
   ]
  },
  {
   "cell_type": "markdown",
   "metadata": {},
   "source": [
    "I'll read in the old data for comparison. I'll focus on examples 6 through 9 from the old data, because they had some issues with identifying the text."
   ]
  },
  {
   "cell_type": "code",
   "execution_count": 3,
   "metadata": {},
   "outputs": [
    {
     "data": {
      "text/plain": [
       "{'file': 'Invoice-template-example-for-a-marketing-firm.webp',\n",
       " 'text': 'KirkPatrick Marketing Co.\\n651 Emily Drive\\nColumbia, SC 29201\\n\\n503-951-7624 Invoice «2084\\nDecember 23.2023\\n\\nBILL TO\\n\\nAtionta, GA 30208\\n\\n404 571-1634\\n\\nDESCRIPTION HOURS RATE AMOUNT\\n\\nPua Laundry Services Logo Design 2 si0a $200\\n\\nInstagram Social Assets 2 si00 $300\\n\\nYour total amount due is . Thank\\nyou so much for your business.\\n\\n‘er month Maka ak checks payabie to KekPatrck Marketing Co,\\n'}"
      ]
     },
     "execution_count": 3,
     "metadata": {},
     "output_type": "execute_result"
    }
   ],
   "source": [
    "with open('text_data.json', 'r') as f:\n",
    "    old_data = json.load(f)\n",
    "\n",
    "old_data[6]    "
   ]
  },
  {
   "cell_type": "markdown",
   "metadata": {},
   "source": [
    "To work with the EasyOCR library, I have to instantiate the object on the list of languages I would like to detect."
   ]
  },
  {
   "cell_type": "code",
   "execution_count": 4,
   "metadata": {},
   "outputs": [
    {
     "name": "stderr",
     "output_type": "stream",
     "text": [
      "Neither CUDA nor MPS are available - defaulting to CPU. Note: This module is much faster with a GPU.\n",
      "Downloading detection model, please wait. This may take several minutes depending upon your network connection.\n"
     ]
    },
    {
     "name": "stdout",
     "output_type": "stream",
     "text": [
      "Progress: |██████████████████████████████████████████████████| 100.0% Complete"
     ]
    },
    {
     "name": "stderr",
     "output_type": "stream",
     "text": [
      "Downloading recognition model, please wait. This may take several minutes depending upon your network connection.\n"
     ]
    },
    {
     "name": "stdout",
     "output_type": "stream",
     "text": [
      "Progress: |██████████████████████████████████████████████████| 100.0% Complete"
     ]
    }
   ],
   "source": [
    "reader = easyocr.Reader(['en'])"
   ]
  },
  {
   "cell_type": "markdown",
   "metadata": {},
   "source": [
    "Now that I have the object, I don't need to bother opening the image using a library. I can read directly from the filepath.\n",
    "\n",
    "Note: it cannot read webp files, so I will read in the images as a numpy array using the cv2 library."
   ]
  },
  {
   "cell_type": "code",
   "execution_count": 13,
   "metadata": {},
   "outputs": [
    {
     "data": {
      "text/plain": [
       "[([[147, 53], [313, 53], [313, 71], [147, 71]],\n",
       "  'KirkPatrick Marketing Co.',\n",
       "  0.9632051144407789),\n",
       " ([[387, 47], [577, 47], [577, 89], [387, 89]], 'INVOICE', 0.4532020407974415),\n",
       " ([[147, 71], [221, 71], [221, 83], [147, 83]],\n",
       "  '851 Emnly Crive',\n",
       "  0.3887299338834006),\n",
       " ([[147, 83], [243, 83], [243, 95], [147, 95]],\n",
       "  'Columbix, SC 79201',\n",
       "  0.12316989216701457),\n",
       " ([[147, 95], [217, 95], [217, 109], [147, 109]],\n",
       "  '603-931-7624',\n",
       "  0.30317013004818727),\n",
       " ([[507, 95], [575, 95], [575, 109], [507, 109]],\n",
       "  'Invoice #2034',\n",
       "  0.5746950432493378),\n",
       " ([[485, 109], [575, 109], [575, 121], [485, 121]],\n",
       "  'Decem ber 71,2023',\n",
       "  0.12534118796311425),\n",
       " ([[147, 133], [187, 133], [187, 147], [147, 147]],\n",
       "  'BILL TO',\n",
       "  0.7551944156456212),\n",
       " ([[147, 147], [177, 147], [177, 159], [147, 159]],\n",
       "  'Marie',\n",
       "  0.13414225838630503),\n",
       " ([[183, 147], [205, 147], [205, 159], [183, 159]], 'Pue', 0.9565716161646148),\n",
       " ([[147, 159], [169, 159], [169, 171], [147, 171]],\n",
       "  'ZUu',\n",
       "  0.14261201549128802),\n",
       " ([[172, 162], [198, 162], [198, 168], [172, 168]],\n",
       "  'Huol',\n",
       "  0.005365761928260326),\n",
       " ([[202, 160], [236, 160], [236, 168], [202, 168]],\n",
       "  'Avenve',\n",
       "  0.2503902606919842),\n",
       " ([[148, 174], [184, 174], [184, 182], [148, 182]],\n",
       "  'Atloneo',\n",
       "  0.13119534009491332),\n",
       " ([[185, 171], [237, 171], [237, 185], [185, 185]],\n",
       "  'GA 50309',\n",
       "  0.6719327511168279),\n",
       " ([[147, 185], [215, 185], [215, 197], [147, 197]],\n",
       "  '402 ,71 10J4',\n",
       "  0.13615849316294165),\n",
       " ([[148, 252], [214, 252], [214, 260], [148, 260]],\n",
       "  'BESCRIPTION',\n",
       "  0.34061245706824167),\n",
       " ([[405, 253], [441, 253], [441, 265], [405, 265]],\n",
       "  'HOURS',\n",
       "  0.6000025480521745),\n",
       " ([[471, 253], [501, 253], [501, 265], [471, 265]],\n",
       "  'RATE',\n",
       "  0.9984397292137146),\n",
       " ([[525, 251], [571, 251], [571, 263], [525, 263]],\n",
       "  'AMOUNT',\n",
       "  0.7310858068303518),\n",
       " ([[166, 274], [319, 274], [319, 290], [166, 290]],\n",
       "  'Laundrv Services LoRe Desien',\n",
       "  0.40824161649733226),\n",
       " ([[473, 277], [501, 277], [501, 289], [473, 289]],\n",
       "  '310G',\n",
       "  0.47529366612434387),\n",
       " ([[533, 275], [563, 275], [563, 289], [533, 289]],\n",
       "  '8200',\n",
       "  0.43883609771728516),\n",
       " ([[147, 300], [267, 300], [267, 315], [147, 315]],\n",
       "  'Inseagram 3aci01 Asscts',\n",
       "  0.23306956816948513),\n",
       " ([[473, 303], [501, 303], [501, 315], [473, 315]], '3100', 0.568600058555603),\n",
       " ([[533, 301], [563, 301], [563, 315], [533, 315]],\n",
       "  '8300',\n",
       "  0.6394487619400024),\n",
       " ([[211, 511], [525, 511], [525, 527], [211, 527]],\n",
       "  'Your total amount due is . Thank',\n",
       "  0.5233616467809669),\n",
       " ([[249, 533], [481, 533], [481, 551], [249, 551]],\n",
       "  'you s0 much for your business_',\n",
       "  0.624973512028757),\n",
       " ([[230, 574], [308, 574], [308, 582], [230, 582]],\n",
       "  'MiovE CuY quesiOi',\n",
       "  0.04470250551705707),\n",
       " ([[316, 574], [362, 574], [362, 582], [316, 582]],\n",
       "  'UbJu YCI',\n",
       "  0.10624015244481314),\n",
       " ([[366, 574], [396, 574], [396, 580], [366, 580]],\n",
       "  'Mnyuae',\n",
       "  0.0482799490157154),\n",
       " ([[400, 574], [504, 574], [504, 582], [400, 582]],\n",
       "  'Jieuse CoCLL Juctte',\n",
       "  0.10038287015985475),\n",
       " ([[204, 586], [256, 586], [256, 592], [204, 592]],\n",
       "  'mOun: duc',\n",
       "  0.01058926014559427),\n",
       " ([[278, 586], [300, 586], [300, 594], [278, 594]], 'doy', 0.3678723964222623),\n",
       " ([[346, 586], [418, 586], [418, 592], [346, 592]],\n",
       "  'Ucouris Ad fci',\n",
       "  0.0031096551310461707),\n",
       " ([[432, 586], [498, 586], [498, 594], [432, 594]],\n",
       "  '95YICE - Ies',\n",
       "  0.009105290270648143),\n",
       " ([[509, 583], [531, 583], [531, 595], [509, 595]],\n",
       "  '1096',\n",
       "  0.21515978872776031),\n",
       " ([[246, 598], [300, 598], [300, 604], [246, 604]],\n",
       "  'McnGF Rdre',\n",
       "  0.0005916904188505261),\n",
       " ([[316, 598], [344, 598], [344, 604], [316, 604]],\n",
       "  'Cnece',\n",
       "  0.08913883815663186),\n",
       " ([[397, 595], [505, 595], [505, 607], [397, 607]],\n",
       "  '{kPOliL< Marceling Co',\n",
       "  0.15329533240465817),\n",
       " ([[201.3598156003355, 570.2317787204026],\n",
       "   [228.97618706018395, 573.7830695421814],\n",
       "   [227.6401843996645, 583.7682212795974],\n",
       "   [200.02381293981605, 580.2169304578186]],\n",
       "  'MyoL',\n",
       "  0.04052921012043953),\n",
       " ([[346.14250707428744, 597.4855042445724],\n",
       "   [383.93742527200976, 593.6518134703964],\n",
       "   [384.85749292571256, 604.5144957554276],\n",
       "   [347.06257472799024, 607.3481865296036]],\n",
       "  'Po,abr',\n",
       "  0.0686463624675256)]"
      ]
     },
     "execution_count": 13,
     "metadata": {},
     "output_type": "execute_result"
    }
   ],
   "source": [
    "filepath = os.path.join('examples/', old_data[6]['file'])\n",
    "image = cv2.imread(filepath)\n",
    "reader.readtext(image)"
   ]
  },
  {
   "cell_type": "markdown",
   "metadata": {},
   "source": [
    "Not super promising. I'll use an optional argument to limit the amount of information."
   ]
  },
  {
   "cell_type": "code",
   "execution_count": 14,
   "metadata": {},
   "outputs": [
    {
     "data": {
      "text/plain": [
       "['KirkPatrick Marketing Co.',\n",
       " 'INVOICE',\n",
       " '851 Emnly Crive',\n",
       " 'Columbix, SC 79201',\n",
       " '603-931-7624',\n",
       " 'Invoice #2034',\n",
       " 'Decem ber 71,2023',\n",
       " 'BILL TO',\n",
       " 'Marie',\n",
       " 'Pue',\n",
       " 'ZUu',\n",
       " 'Huol',\n",
       " 'Avenve',\n",
       " 'Atloneo',\n",
       " 'GA 50309',\n",
       " '402 ,71 10J4',\n",
       " 'BESCRIPTION',\n",
       " 'HOURS',\n",
       " 'RATE',\n",
       " 'AMOUNT',\n",
       " 'Laundrv Services LoRe Desien',\n",
       " '310G',\n",
       " '8200',\n",
       " 'Inseagram 3aci01 Asscts',\n",
       " '3100',\n",
       " '8300',\n",
       " 'Your total amount due is . Thank',\n",
       " 'you s0 much for your business_',\n",
       " 'MiovE CuY quesiOi',\n",
       " 'UbJu YCI',\n",
       " 'Mnyuae',\n",
       " 'Jieuse CoCLL Juctte',\n",
       " 'mOun: duc',\n",
       " 'doy',\n",
       " 'Ucouris Ad fci',\n",
       " '95YICE - Ies',\n",
       " '1096',\n",
       " 'McnGF Rdre',\n",
       " 'Cnece',\n",
       " '{kPOliL< Marceling Co',\n",
       " 'MyoL',\n",
       " 'Po,abr']"
      ]
     },
     "execution_count": 14,
     "metadata": {},
     "output_type": "execute_result"
    }
   ],
   "source": [
    "reader.readtext(image, detail=0)"
   ]
  },
  {
   "cell_type": "markdown",
   "metadata": {},
   "source": [
    "This is a lot worse than the pytesseract version for a couple of reasons. One, it's less accurate. Two, the text is more chopped up, which would make it extremely difficult to identify an address. I'll try it on another image before I settle on the pytesseract library for this project."
   ]
  },
  {
   "cell_type": "code",
   "execution_count": 15,
   "metadata": {},
   "outputs": [
    {
     "data": {
      "text/plain": [
       "['East Repair Inc_',\n",
       " '1912 Harvest Lane',\n",
       " 'New York; NY 12210',\n",
       " 'BILL TO',\n",
       " 'SHIP TO',\n",
       " 'INVOICE #',\n",
       " 'US-001',\n",
       " 'John Smith',\n",
       " 'John Smith',\n",
       " 'INVOICE DATE',\n",
       " '11/02/2019',\n",
       " 'Court Square',\n",
       " '3787 Pineview Drive',\n",
       " 'Po#',\n",
       " '2312/2019',\n",
       " 'New York; NY 12210',\n",
       " 'Cambridge',\n",
       " 'MA 12210',\n",
       " 'DUE DATE',\n",
       " '26/02/2019',\n",
       " 'Invoice Total',\n",
       " 'S154.06',\n",
       " 'QTY',\n",
       " 'DESCRIPTION',\n",
       " 'UNIT PRICE',\n",
       " 'AMOUNT',\n",
       " 'Front and rear brake cables',\n",
       " '100.00',\n",
       " '100.00',\n",
       " 'New set of pedal arms',\n",
       " '15.00',\n",
       " '30.00',\n",
       " 'Labor 3hrs',\n",
       " '5.00',\n",
       " '15.00',\n",
       " 'Subtotal',\n",
       " '145.00',\n",
       " 'Sales Tax 6.25%',\n",
       " '9.06',\n",
       " 'KmSwhh',\n",
       " 'TERMS & CONDITIONS',\n",
       " 'Payment is due within 15 days',\n",
       " 'Please make checks payable to: East Repair Inc_']"
      ]
     },
     "execution_count": 15,
     "metadata": {},
     "output_type": "execute_result"
    }
   ],
   "source": [
    "filepath = os.path.join('examples/', old_data[7]['file'])\n",
    "image = cv2.imread(filepath)\n",
    "reader.readtext(image, detail=0)"
   ]
  },
  {
   "cell_type": "markdown",
   "metadata": {},
   "source": [
    "This is still worse. I could spend time optimizing this model, but I would rather optimize the pytesseract model which has better performance from the start."
   ]
  },
  {
   "cell_type": "code",
   "execution_count": null,
   "metadata": {},
   "outputs": [],
   "source": []
  }
 ],
 "metadata": {
  "kernelspec": {
   "display_name": "base",
   "language": "python",
   "name": "python3"
  },
  "language_info": {
   "codemirror_mode": {
    "name": "ipython",
    "version": 3
   },
   "file_extension": ".py",
   "mimetype": "text/x-python",
   "name": "python",
   "nbconvert_exporter": "python",
   "pygments_lexer": "ipython3",
   "version": "3.8.5"
  }
 },
 "nbformat": 4,
 "nbformat_minor": 2
}
