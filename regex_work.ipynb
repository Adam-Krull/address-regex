{
 "cells": [
  {
   "cell_type": "markdown",
   "metadata": {},
   "source": [
    "The purpose of this document is to make sense of the text data extracted from the example invoices and use a regex pattern to extract the addresses. Some addresses were on multiple lines in the images, which may lead to complications. I look forward to wrestling with this problem and hopefully programming an effective solution that can be scripted."
   ]
  },
  {
   "cell_type": "code",
   "execution_count": 1,
   "metadata": {},
   "outputs": [],
   "source": [
    "import json\n",
    "import re"
   ]
  },
  {
   "cell_type": "code",
   "execution_count": 2,
   "metadata": {},
   "outputs": [
    {
     "data": {
      "text/plain": [
       "{'file': '1131w-gU_JD5OzAAQ.webp',\n",
       " 'text': 'INVOICE ZN\\n\\nWARDIERE INC.\\n\\nBILL TO:\\n\\nOlivia Wilson Date: 15/08/2028\\nhello@reallygreatsite.com\\n\\n123 Anywhere St., Any City, ST 12345 Invoice NO. 2000-15\\nFROM:\\n\\nWardiere Inc.\\nhello@reallygreatsite.com\\n123 Anywhere St., Any City, ST 12345,\\n\\nDESCRIPTION HOURS PRICE TOTAL\\n\\nGraphic design consultiation 2 $100.00 $200.00\\n\\nLogo design 1 $700.00 $700.00\\n\\nSocial media templates 1 $600.00 $600.00\\n\\nRevision 2. $300.00 $600.00\\n\\nTotal amount $2,100.00\\nPAYMENT METHOD NOTES\\n\\nBank name: Fauget\\nAccount No: 123-456-7890\\n\\nDate Thank youl Signature\\n\\nwww.reallygreatsite.com\\n'}"
      ]
     },
     "execution_count": 2,
     "metadata": {},
     "output_type": "execute_result"
    }
   ],
   "source": [
    "with open('text_data.json', 'r') as f:\n",
    "    text_data = json.load(f)\n",
    "\n",
    "text_data[0]    "
   ]
  },
  {
   "cell_type": "markdown",
   "metadata": {},
   "source": [
    "Beautiful. In the first example, the address is in one place. I will write a regexpression to capture the address and test it against this example.\n",
    "\n",
    "I will be more explicit that I likely need to be, because my future approach may require me to split the regexpression into two (for the first and second parts of an address)."
   ]
  },
  {
   "cell_type": "code",
   "execution_count": 3,
   "metadata": {},
   "outputs": [
    {
     "data": {
      "text/plain": [
       "['123 Anywhere St., Any City, ST 12345',\n",
       " '123 Anywhere St., Any City, ST 12345']"
      ]
     },
     "execution_count": 3,
     "metadata": {},
     "output_type": "execute_result"
    }
   ],
   "source": [
    "regexp = r'\\d+\\s[\\w\\s\\.]+,[\\w\\s]+,\\s\\w{2}\\s\\d{5}'\n",
    "\n",
    "re.findall(regexp, text_data[0]['text'])"
   ]
  },
  {
   "cell_type": "markdown",
   "metadata": {},
   "source": [
    "This is off to a decent start. I'll run this against every image in my example set to see if there are more single-line addresses I can capture."
   ]
  },
  {
   "cell_type": "code",
   "execution_count": 4,
   "metadata": {},
   "outputs": [
    {
     "data": {
      "text/plain": [
       "{'1131w-gU_JD5OzAAQ.webp': ['123 Anywhere St., Any City, ST 12345',\n",
       "  '123 Anywhere St., Any City, ST 12345'],\n",
       " '1131w-zvoLwRH8Wys.webp': ['5 July 2025 123 Anywhere St., Any City, ST 12345'],\n",
       " '609d5d3c4d120e370de52b70_invoice-lp-light-border.png': [],\n",
       " 'Commercial-invoice-example.png': [],\n",
       " 'IC-Business-Invoice-Template.jpg': [],\n",
       " 'invoice-freshbooks-business.jpg': [],\n",
       " 'Invoice-template-example-for-a-marketing-firm.webp': [],\n",
       " 'invoice-template-us-band-blue-750px.png': ['3787 Pineview Drive\\nNew York, NY 12210 Cambridge, MA 12210'],\n",
       " 'invoice-template-us-dexter-750px.png': ['001\\nJohn Smith John Smith INVOICE DATE 1170212019\\n2Court Square 3787 Pineview Drive Pout nat2p019\\nNew York, NY 12210 Cambridge, MA 12210'],\n",
       " 'services-invoice-with-hours-and-rate-green-modern-simple-1-1-f82c825b6ce1.webp': [],\n",
       " 'simple-invoice-template.png': []}"
      ]
     },
     "execution_count": 4,
     "metadata": {},
     "output_type": "execute_result"
    }
   ],
   "source": [
    "hits = {}\n",
    "\n",
    "for i, invoice in enumerate(text_data):\n",
    "    addresses = re.findall(regexp, invoice['text'])\n",
    "    hits[invoice['file']] = addresses\n",
    "\n",
    "hits    "
   ]
  },
  {
   "cell_type": "markdown",
   "metadata": {},
   "source": [
    "Couple problems here: my regexpression clearly needs improvement. It's too lenient and allows nonsense to make it through. Second, there are addresses spanning multiple lines (and different pieces of them) that can be combined together to form an improper address. For example, the Pineview Drive address is supposed to be in Cambridge, MA, however it picks up New York, NY first. I may try to get some positional information from pytesseract to aid my analysis.\n",
    "\n",
    "I will first fix my regexpression to be more precise, then I will revisit my previous notebook to pull more information from the invoices.\n",
    "\n",
    "Making the comma optional has improved identification. I need to try making the number of possible words after the street number shorter."
   ]
  },
  {
   "cell_type": "code",
   "execution_count": 5,
   "metadata": {},
   "outputs": [
    {
     "data": {
      "text/plain": [
       "{'1131w-gU_JD5OzAAQ.webp': ['123 Anywhere St., Any City, ST 12345',\n",
       "  '123 Anywhere St., Any City, ST 12345'],\n",
       " '1131w-zvoLwRH8Wys.webp': ['5 July 2025 123 Anywhere St., Any City, ST 12345'],\n",
       " '609d5d3c4d120e370de52b70_invoice-lp-light-border.png': [],\n",
       " 'Commercial-invoice-example.png': ['23 Kg\\n\\nShipment Terms\\n\\nDDU\\n\\nINVOICE NO.\\n000562\\n\\nAcme Industries\\n\\n9176 Riverside Drive\\nPanama City, FL 32404',\n",
       "  '10\\n\\n20\\n\\n02\\n\\nGlobex Corporation\\n\\n582 Grand Drive\\nLithonia, GA 30038',\n",
       "  '52 Indian Summer Lane\\nAustin, MN 55912'],\n",
       " 'IC-Business-Invoice-Template.jpg': ['123 Main Seat\\nHamiton, OH 44416'],\n",
       " 'invoice-freshbooks-business.jpg': [],\n",
       " 'Invoice-template-example-for-a-marketing-firm.webp': ['651 Emily Drive\\nColumbia, SC 29201',\n",
       "  '2084\\nDecember 23.2023\\n\\nBILL TO\\n\\nAtionta, GA 30208'],\n",
       " 'invoice-template-us-band-blue-750px.png': ['1912 Harvest Lane\\nNew York, NY 12210',\n",
       "  '2.Court Square 3787 Pineview Drive\\nNew York, NY 12210 Cambridge, MA 12210'],\n",
       " 'invoice-template-us-dexter-750px.png': ['1912 Harvest Lane\\nNew York, NY 12210',\n",
       "  '001\\nJohn Smith John Smith INVOICE DATE 1170212019\\n2Court Square 3787 Pineview Drive Pout nat2p019\\nNew York, NY 12210 Cambridge, MA 12210'],\n",
       " 'services-invoice-with-hours-and-rate-green-modern-simple-1-1-f82c825b6ce1.webp': ['450 East 780 Ave\\nDenver, CO 12345',\n",
       "  '7891\\n\\n1\\nGaurav Cheema\\n\\nCanciro Group\\n\\n89 Pactc Ave\\n\\nSan Francisco, CA 78910'],\n",
       " 'simple-invoice-template.png': []}"
      ]
     },
     "execution_count": 5,
     "metadata": {},
     "output_type": "execute_result"
    }
   ],
   "source": [
    "regexp = r'\\d+[\\s\\w\\.]+,?[\\w\\s]+,\\s\\w{2}\\s\\d{5}'\n",
    "\n",
    "hits = {}\n",
    "\n",
    "for i, invoice in enumerate(text_data):\n",
    "    addresses = re.findall(regexp, invoice['text'])\n",
    "    hits[invoice['file']] = addresses\n",
    "\n",
    "hits   "
   ]
  },
  {
   "cell_type": "markdown",
   "metadata": {},
   "source": [
    "I made some progress with that approach, but today is a new day. Today, I will try splitting the text data by the newline character. From there, I will clean up all strings and try to match addresses to my regexpression."
   ]
  },
  {
   "cell_type": "code",
   "execution_count": 7,
   "metadata": {},
   "outputs": [
    {
     "data": {
      "text/plain": [
       "['INVOICE ZN',\n",
       " '',\n",
       " 'WARDIERE INC.',\n",
       " '',\n",
       " 'BILL TO:',\n",
       " '',\n",
       " 'Olivia Wilson Date: 15/08/2028',\n",
       " 'hello@reallygreatsite.com',\n",
       " '',\n",
       " '123 Anywhere St., Any City, ST 12345 Invoice NO. 2000-15',\n",
       " 'FROM:',\n",
       " '',\n",
       " 'Wardiere Inc.',\n",
       " 'hello@reallygreatsite.com',\n",
       " '123 Anywhere St., Any City, ST 12345,',\n",
       " '',\n",
       " 'DESCRIPTION HOURS PRICE TOTAL',\n",
       " '',\n",
       " 'Graphic design consultiation 2 $100.00 $200.00',\n",
       " '',\n",
       " 'Logo design 1 $700.00 $700.00',\n",
       " '',\n",
       " 'Social media templates 1 $600.00 $600.00',\n",
       " '',\n",
       " 'Revision 2. $300.00 $600.00',\n",
       " '',\n",
       " 'Total amount $2,100.00',\n",
       " 'PAYMENT METHOD NOTES',\n",
       " '',\n",
       " 'Bank name: Fauget',\n",
       " 'Account No: 123-456-7890',\n",
       " '',\n",
       " 'Date Thank youl Signature',\n",
       " '',\n",
       " 'www.reallygreatsite.com',\n",
       " '']"
      ]
     },
     "execution_count": 7,
     "metadata": {},
     "output_type": "execute_result"
    }
   ],
   "source": [
    "text_data[0]['text'].split('\\n')"
   ]
  },
  {
   "cell_type": "code",
   "execution_count": 8,
   "metadata": {},
   "outputs": [
    {
     "data": {
      "text/plain": [
       "['INVOICE ZN',\n",
       " 'WARDIERE INC.',\n",
       " 'BILL TO:',\n",
       " 'Olivia Wilson Date: 15/08/2028',\n",
       " 'hello@reallygreatsite.com',\n",
       " '123 Anywhere St., Any City, ST 12345 Invoice NO. 2000-15',\n",
       " 'FROM:',\n",
       " 'Wardiere Inc.',\n",
       " 'hello@reallygreatsite.com',\n",
       " '123 Anywhere St., Any City, ST 12345,',\n",
       " 'DESCRIPTION HOURS PRICE TOTAL',\n",
       " 'Graphic design consultiation 2 $100.00 $200.00',\n",
       " 'Logo design 1 $700.00 $700.00',\n",
       " 'Social media templates 1 $600.00 $600.00',\n",
       " 'Revision 2. $300.00 $600.00',\n",
       " 'Total amount $2,100.00',\n",
       " 'PAYMENT METHOD NOTES',\n",
       " 'Bank name: Fauget',\n",
       " 'Account No: 123-456-7890',\n",
       " 'Date Thank youl Signature',\n",
       " 'www.reallygreatsite.com']"
      ]
     },
     "execution_count": 8,
     "metadata": {},
     "output_type": "execute_result"
    }
   ],
   "source": [
    "lines = [line for line in text_data[0]['text'].split('\\n') if line != '']\n",
    "lines"
   ]
  },
  {
   "cell_type": "markdown",
   "metadata": {},
   "source": [
    "Cool, now I'll go through this list of strings and attempt to match each one to my regexpression."
   ]
  },
  {
   "cell_type": "code",
   "execution_count": 11,
   "metadata": {},
   "outputs": [
    {
     "data": {
      "text/plain": [
       "['123 Anywhere St., Any City, ST 12345',\n",
       " '123 Anywhere St., Any City, ST 12345']"
      ]
     },
     "execution_count": 11,
     "metadata": {},
     "output_type": "execute_result"
    }
   ],
   "source": [
    "regexp = r'\\d+[\\s\\w\\.]+,?[\\w\\s]+,\\s\\w{2}\\s\\d{5}'\n",
    "addresses = []\n",
    "\n",
    "for line in lines:\n",
    "    address = re.match(regexp, line)\n",
    "    if address:\n",
    "        addresses.append(address.group(0))\n",
    "\n",
    "addresses        \n"
   ]
  },
  {
   "cell_type": "markdown",
   "metadata": {},
   "source": [
    "This idea has enough merit for me to format my other 9 samples the same way: a list of strings, each string being a line from the invoice document."
   ]
  },
  {
   "cell_type": "code",
   "execution_count": 12,
   "metadata": {},
   "outputs": [
    {
     "data": {
      "text/plain": [
       "11"
      ]
     },
     "execution_count": 12,
     "metadata": {},
     "output_type": "execute_result"
    }
   ],
   "source": [
    "docs_as_lines = []\n",
    "\n",
    "for invoice in text_data:\n",
    "    lines = [line for line in invoice['text'].split('\\n') if line != '']\n",
    "    docs_as_lines.append(lines)\n",
    "\n",
    "len(docs_as_lines)    "
   ]
  },
  {
   "cell_type": "markdown",
   "metadata": {},
   "source": [
    "Beautiful. I did it this way so as I encounter specific test cases where my code fails to return any addresses, I can investigate them to improve my approach to this problem. I will iterate through the invoices in an initial pass and see how many successes I have."
   ]
  },
  {
   "cell_type": "code",
   "execution_count": 13,
   "metadata": {},
   "outputs": [
    {
     "name": "stdout",
     "output_type": "stream",
     "text": [
      "Found a match in invoice #0.\n",
      "<re.Match object; span=(0, 36), match='123 Anywhere St., Any City, ST 12345'>\n",
      "\n",
      "Found a match in invoice #0.\n",
      "<re.Match object; span=(0, 36), match='123 Anywhere St., Any City, ST 12345'>\n",
      "\n"
     ]
    }
   ],
   "source": [
    "regexp = r'\\d+[\\s\\w\\.]+,?[\\w\\s]+,\\s\\w{2}\\s\\d{5}'\n",
    "\n",
    "for i, doc in enumerate(docs_as_lines):\n",
    "    for line in doc:\n",
    "        address = re.match(regexp, line)\n",
    "        if address:\n",
    "            print(f'Found a match in invoice #{i}.')\n",
    "            print(f'{address}')\n",
    "            print()\n",
    "        else:\n",
    "            continue    "
   ]
  },
  {
   "cell_type": "markdown",
   "metadata": {},
   "source": [
    "This result is not discouraging. Looking at the above examples, every document except the first one has newline characters present in the middle of the address. This is where my possible best idea comes into play: I will search every line for a match to the first line of an address (street number and name). If I find a match, I will search the following string for a match to the second line of an address (city, state abbreviation, and zip code). If both of these things happen, I will concatenate the two pieces of the address and present them as a complete address.\n",
    "\n",
    "Note: before I jump in, I need to refine my regexpressions for the first and second halves of an address. Once I have those rolling, I'll put them together for a final test."
   ]
  },
  {
   "cell_type": "code",
   "execution_count": 20,
   "metadata": {},
   "outputs": [
    {
     "name": "stdout",
     "output_type": "stream",
     "text": [
      "Found a match in file 1131w-gU_JD5OzAAQ.webp.\n",
      "<re.Match object; span=(0, 16), match='123 Anywhere St.'>\n",
      "\n",
      "Found a match in file 1131w-gU_JD5OzAAQ.webp.\n",
      "<re.Match object; span=(0, 16), match='123 Anywhere St.'>\n",
      "\n",
      "Found a match in file 1131w-zvoLwRH8Wys.webp.\n",
      "<re.Match object; span=(0, 11), match='63 Ivy Road'>\n",
      "\n",
      "Found a match in file 1131w-zvoLwRH8Wys.webp.\n",
      "<re.Match object; span=(0, 12), match='16 June 2025'>\n",
      "\n",
      "Found a match in file 1131w-zvoLwRH8Wys.webp.\n",
      "<re.Match object; span=(8, 36), match='5 July 2025 123 Anywhere St.'>\n",
      "\n",
      "Found a match in file 609d5d3c4d120e370de52b70_invoice-lp-light-border.png.\n",
      "<re.Match object; span=(0, 16), match='1234 Your Street'>\n",
      "\n",
      "Found a match in file 609d5d3c4d120e370de52b70_invoice-lp-light-border.png.\n",
      "<re.Match object; span=(5, 13), match='2021 INV'>\n",
      "\n",
      "Found a match in file 609d5d3c4d120e370de52b70_invoice-lp-light-border.png.\n",
      "<re.Match object; span=(18, 63), match='30 days using the link in your invoice email.'>\n",
      "\n",
      "Found a match in file Commercial-invoice-example.png.\n",
      "<re.Match object; span=(0, 5), match='23 Kg'>\n",
      "\n",
      "Found a match in file Commercial-invoice-example.png.\n",
      "<re.Match object; span=(0, 20), match='9176 Riverside Drive'>\n",
      "\n",
      "Found a match in file Commercial-invoice-example.png.\n",
      "<re.Match object; span=(0, 15), match='582 Grand Drive'>\n",
      "\n",
      "Found a match in file Commercial-invoice-example.png.\n",
      "<re.Match object; span=(8, 29), match='52 Indian Summer Lane'>\n",
      "\n",
      "Found a match in file IC-Business-Invoice-Template.jpg.\n",
      "<re.Match object; span=(0, 13), match='123 Main Seat'>\n",
      "\n",
      "Found a match in file IC-Business-Invoice-Template.jpg.\n",
      "<re.Match object; span=(12, 28), match='44416 invoiceno.'>\n",
      "\n",
      "Found a match in file IC-Business-Invoice-Template.jpg.\n",
      "<re.Match object; span=(2, 9), match='10 suet'>\n",
      "\n",
      "Found a match in file IC-Business-Invoice-Template.jpg.\n",
      "<re.Match object; span=(0, 26), match='23 Mon Sreet 123 Mon Sreet'>\n",
      "\n",
      "Found a match in file IC-Business-Invoice-Template.jpg.\n",
      "<re.Match object; span=(11, 21), match='446 ariton'>\n",
      "\n",
      "Found a match in file invoice-freshbooks-business.jpg.\n",
      "<re.Match object; span=(5, 20), match='87 Queen Street'>\n",
      "\n",
      "Found a match in file invoice-freshbooks-business.jpg.\n",
      "<re.Match object; span=(0, 17), match='4161234567 Hamlet'>\n",
      "\n",
      "Found a match in file invoice-freshbooks-business.jpg.\n",
      "<re.Match object; span=(34, 44), match='5 O O. O O'>\n",
      "\n",
      "Found a match in file invoice-freshbooks-business.jpg.\n",
      "<re.Match object; span=(0, 15), match='123 Main Street'>\n",
      "\n",
      "Found a match in file Invoice-template-example-for-a-marketing-firm.webp.\n",
      "<re.Match object; span=(0, 15), match='651 Emily Drive'>\n",
      "\n",
      "Found a match in file Invoice-template-example-for-a-marketing-firm.webp.\n",
      "<re.Match object; span=(8, 21), match='7624 Invoice '>\n",
      "\n",
      "Found a match in file Invoice-template-example-for-a-marketing-firm.webp.\n",
      "<re.Match object; span=(33, 40), match='2 si0a '>\n",
      "\n",
      "Found a match in file Invoice-template-example-for-a-marketing-firm.webp.\n",
      "<re.Match object; span=(24, 31), match='2 si00 '>\n",
      "\n",
      "Found a match in file invoice-template-us-band-blue-750px.png.\n",
      "<re.Match object; span=(0, 17), match='1912 Harvest Lane'>\n",
      "\n",
      "Found a match in file invoice-template-us-band-blue-750px.png.\n",
      "<re.Match object; span=(15, 34), match='3787 Pineview Drive'>\n",
      "\n",
      "Found a match in file invoice-template-us-band-blue-750px.png.\n",
      "<re.Match object; span=(13, 28), match='12210 Cambridge'>\n",
      "\n",
      "Found a match in file invoice-template-us-band-blue-750px.png.\n",
      "<re.Match object; span=(0, 29), match='1 Front and rear brake cables'>\n",
      "\n",
      "Found a match in file invoice-template-us-band-blue-750px.png.\n",
      "<re.Match object; span=(0, 23), match='2 New set of pedal arms'>\n",
      "\n",
      "Found a match in file invoice-template-us-band-blue-750px.png.\n",
      "<re.Match object; span=(0, 12), match='3 Labor 3hrs'>\n",
      "\n",
      "Found a match in file invoice-template-us-band-blue-750px.png.\n",
      "<re.Match object; span=(22, 29), match='15 days'>\n",
      "\n",
      "Found a match in file invoice-template-us-dexter-750px.png.\n",
      "<re.Match object; span=(0, 17), match='1912 Harvest Lane'>\n",
      "\n",
      "Found a match in file invoice-template-us-dexter-750px.png.\n",
      "<re.Match object; span=(14, 47), match='3787 Pineview Drive Pout nat2p019'>\n",
      "\n",
      "Found a match in file invoice-template-us-dexter-750px.png.\n",
      "<re.Match object; span=(13, 28), match='12210 Cambridge'>\n",
      "\n",
      "Found a match in file invoice-template-us-dexter-750px.png.\n",
      "<re.Match object; span=(0, 43), match='1 Front and rear brake cables 100.00 100.00'>\n",
      "\n",
      "Found a match in file invoice-template-us-dexter-750px.png.\n",
      "<re.Match object; span=(0, 35), match='2 New set of pedal arms 15.00 30.00'>\n",
      "\n",
      "Found a match in file invoice-template-us-dexter-750px.png.\n",
      "<re.Match object; span=(0, 23), match='3 Labor 3hrs 5.00 15.00'>\n",
      "\n",
      "Found a match in file invoice-template-us-dexter-750px.png.\n",
      "<re.Match object; span=(22, 29), match='15 days'>\n",
      "\n",
      "Found a match in file services-invoice-with-hours-and-rate-green-modern-simple-1-1-f82c825b6ce1.webp.\n",
      "<re.Match object; span=(0, 16), match='450 East 780 Ave'>\n",
      "\n",
      "Found a match in file services-invoice-with-hours-and-rate-green-modern-simple-1-1-f82c825b6ce1.webp.\n",
      "<re.Match object; span=(0, 12), match='89 Pactc Ave'>\n",
      "\n",
      "Found a match in file services-invoice-with-hours-and-rate-green-modern-simple-1-1-f82c825b6ce1.webp.\n",
      "<re.Match object; span=(14, 71), match='15 days. Overdue accounts subjct to a service cha>\n",
      "\n",
      "Found a match in file simple-invoice-template.png.\n",
      "<re.Match object; span=(10, 20), match='7890 A286 '>\n",
      "\n",
      "Found a match in file simple-invoice-template.png.\n",
      "<re.Match object; span=(7, 15), match='816 enon'>\n",
      "\n"
     ]
    }
   ],
   "source": [
    "regexp_one = r'\\d+ [a-zA-Z]+[\\s\\w\\.]*'\n",
    "\n",
    "for i, doc in enumerate(docs_as_lines):\n",
    "    for line in doc:\n",
    "        address = re.search(regexp_one, line)\n",
    "        if address:\n",
    "            print(f'Found a match in file {text_data[i][\"file\"]}.')\n",
    "            print(f'{address}')\n",
    "            print()\n",
    "        else:\n",
    "            continue   "
   ]
  },
  {
   "cell_type": "code",
   "execution_count": 35,
   "metadata": {},
   "outputs": [
    {
     "data": {
      "text/plain": [
       "['Commercial Invoice',\n",
       " 'AIRWAY BILL NO.',\n",
       " '000231',\n",
       " 'EXPORTER / SHIPPER',\n",
       " 'COMPANY NAME',\n",
       " 'ADDRESS',\n",
       " 'CONTACT NAME',\n",
       " 'PHONE / FAX',\n",
       " 'EMAIL',\n",
       " 'COUNTRY OF EXPORT',\n",
       " 'Product',\n",
       " 'Laser Mouse',\n",
       " 'Dual XL Monitors',\n",
       " 'Multi-jet Printer',\n",
       " 'Total Weight',\n",
       " '23 Kg',\n",
       " 'Shipment Terms',\n",
       " 'DDU',\n",
       " 'INVOICE NO.',\n",
       " '000562',\n",
       " 'Acme Industries',\n",
       " '9176 Riverside Drive',\n",
       " 'Panama City, FL 32404',\n",
       " 'Lacey A Staley',\n",
       " '302-545-0909',\n",
       " 'lacey@mail.com',\n",
       " 'United States of America',\n",
       " 'Qty',\n",
       " '10',\n",
       " '20',\n",
       " '02',\n",
       " 'Globex Corporation',\n",
       " '582 Grand Drive',\n",
       " 'Lithonia, GA 30038',\n",
       " 'INVOICE DATE DATE OF EXPORT',\n",
       " '11/05/2020 11/05/2020',\n",
       " 'SHIP TO / COSIGNEE',\n",
       " 'COMPANY NAME Cala Foods',\n",
       " 'ADDRESS 52 Indian Summer Lane',\n",
       " 'Austin, MN 55912',\n",
       " 'CONTACT NAME Andrew T McGuire',\n",
       " 'PHONE / FAX 480-577-9916',\n",
       " 'EMAIL andrew@mail.com',\n",
       " 'COUNTRY OF Singapore',\n",
       " 'DESTINATION',\n",
       " 'Unit Price Amount',\n",
       " '$950.00 $9,500.00',\n",
       " '$150.00 $3,000.00',\n",
       " '$150.00 $300.00',\n",
       " 'Sub Total $12,800.00',\n",
       " 'Discount $300.00',\n",
       " 'Tax $12.00',\n",
       " 'Total Value $1 2,51 2.00',\n",
       " 'Authorised Signature',\n",
       " 'A204']"
      ]
     },
     "execution_count": 35,
     "metadata": {},
     "output_type": "execute_result"
    }
   ],
   "source": [
    "docs_as_lines[3]"
   ]
  },
  {
   "cell_type": "markdown",
   "metadata": {},
   "source": [
    "It's not perfect, but I am able to grab a lot of the first halves of addresses. I'm hoping the second half of the search will provide useful matches only."
   ]
  },
  {
   "cell_type": "code",
   "execution_count": 24,
   "metadata": {},
   "outputs": [
    {
     "name": "stdout",
     "output_type": "stream",
     "text": [
      "Found a match in file 1131w-gU_JD5OzAAQ.webp.\n",
      "<re.Match object; span=(18, 36), match='Any City, ST 12345'>\n",
      "\n",
      "Found a match in file 1131w-gU_JD5OzAAQ.webp.\n",
      "<re.Match object; span=(18, 36), match='Any City, ST 12345'>\n",
      "\n",
      "Found a match in file 1131w-zvoLwRH8Wys.webp.\n",
      "<re.Match object; span=(38, 56), match='Any City, ST 12345'>\n",
      "\n",
      "Found a match in file Commercial-invoice-example.png.\n",
      "<re.Match object; span=(0, 21), match='Panama City, FL 32404'>\n",
      "\n",
      "Found a match in file Commercial-invoice-example.png.\n",
      "<re.Match object; span=(0, 18), match='Lithonia, GA 30038'>\n",
      "\n",
      "Found a match in file Commercial-invoice-example.png.\n",
      "<re.Match object; span=(0, 16), match='Austin, MN 55912'>\n",
      "\n",
      "Found a match in file IC-Business-Invoice-Template.jpg.\n",
      "<re.Match object; span=(0, 17), match='Hamiton, OH 44416'>\n",
      "\n",
      "Found a match in file Invoice-template-example-for-a-marketing-firm.webp.\n",
      "<re.Match object; span=(0, 18), match='Columbia, SC 29201'>\n",
      "\n",
      "Found a match in file Invoice-template-example-for-a-marketing-firm.webp.\n",
      "<re.Match object; span=(0, 17), match='Ationta, GA 30208'>\n",
      "\n",
      "Found a match in file invoice-template-us-band-blue-750px.png.\n",
      "<re.Match object; span=(0, 18), match='New York, NY 12210'>\n",
      "\n",
      "Found a match in file invoice-template-us-band-blue-750px.png.\n",
      "<re.Match object; span=(0, 18), match='New York, NY 12210'>\n",
      "\n",
      "Found a match in file invoice-template-us-dexter-750px.png.\n",
      "<re.Match object; span=(0, 18), match='New York, NY 12210'>\n",
      "\n",
      "Found a match in file invoice-template-us-dexter-750px.png.\n",
      "<re.Match object; span=(0, 18), match='New York, NY 12210'>\n",
      "\n",
      "Found a match in file services-invoice-with-hours-and-rate-green-modern-simple-1-1-f82c825b6ce1.webp.\n",
      "<re.Match object; span=(0, 16), match='Denver, CO 12345'>\n",
      "\n",
      "Found a match in file services-invoice-with-hours-and-rate-green-modern-simple-1-1-f82c825b6ce1.webp.\n",
      "<re.Match object; span=(0, 23), match='San Francisco, CA 78910'>\n",
      "\n"
     ]
    }
   ],
   "source": [
    "regexp_two = r'([a-zA-Z]\\s?)+, [A-Z]{2} \\d{5}'\n",
    "\n",
    "for i, doc in enumerate(docs_as_lines):\n",
    "    for line in doc:\n",
    "        address = re.search(regexp_two, line)\n",
    "        if address:\n",
    "            print(f'Found a match in file {text_data[i][\"file\"]}.')\n",
    "            print(f'{address}')\n",
    "            print()\n",
    "        else:\n",
    "            continue "
   ]
  },
  {
   "cell_type": "markdown",
   "metadata": {},
   "source": [
    "Not trying to be full of myself but I kinda nailed that one on the first try."
   ]
  },
  {
   "cell_type": "code",
   "execution_count": 39,
   "metadata": {},
   "outputs": [
    {
     "name": "stdout",
     "output_type": "stream",
     "text": [
      "Reached end of document.\n",
      "Reached end of document.\n",
      "Address found in document 3.\n",
      "Address found on lines 21 and 22.\n",
      "9176 Riverside Drive, Panama City, FL 32404\n",
      "Address found in document 3.\n",
      "Address found on lines 32 and 33.\n",
      "582 Grand Drive, Lithonia, GA 30038\n",
      "Address found in document 3.\n",
      "Address found on lines 38 and 39.\n",
      "52 Indian Summer Lane, Austin, MN 55912\n",
      "Address found in document 4.\n",
      "Address found on lines 3 and 4.\n",
      "123 Main Seat, Hamiton, OH 44416\n",
      "Address found in document 6.\n",
      "Address found on lines 1 and 2.\n",
      "651 Emily Drive, Columbia, SC 29201\n",
      "Address found in document 7.\n",
      "Address found on lines 1 and 2.\n",
      "1912 Harvest Lane, New York, NY 12210\n",
      "Address found in document 7.\n",
      "Address found on lines 5 and 6.\n",
      "3787 Pineview Drive, New York, NY 12210\n",
      "Address found in document 8.\n",
      "Address found on lines 2 and 3.\n",
      "1912 Harvest Lane, New York, NY 12210\n",
      "Address found in document 8.\n",
      "Address found on lines 6 and 7.\n",
      "3787 Pineview Drive Pout nat2p019, New York, NY 12210\n",
      "Address found in document 9.\n",
      "Address found on lines 2 and 3.\n",
      "450 East 780 Ave, Denver, CO 12345\n",
      "Address found in document 9.\n",
      "Address found on lines 9 and 10.\n",
      "89 Pactc Ave, San Francisco, CA 78910\n"
     ]
    }
   ],
   "source": [
    "regexp_one = r'\\d+ [a-zA-Z]+[\\s\\w\\.]*'\n",
    "regexp_two = r'([a-zA-Z]\\s?)+, [A-Z]{2} \\d{5}'\n",
    "\n",
    "for i, doc in enumerate(docs_as_lines):\n",
    "    for j, line in enumerate(doc):\n",
    "        first = re.search(regexp_one, line)\n",
    "        if first:\n",
    "            try:\n",
    "                second = re.search(regexp_two, doc[j+1])\n",
    "            except:\n",
    "                print('Reached end of document.')\n",
    "                continue    \n",
    "            if second:\n",
    "                full_address = first.group(0) + ', ' + second.group(0)\n",
    "                print(f'Address found in document {i}.')\n",
    "                print(f'Address found on lines {j} and {j+1}.')\n",
    "                print(full_address)"
   ]
  },
  {
   "cell_type": "markdown",
   "metadata": {},
   "source": [
    "Ok, this is super encouraging. I am detecting so many multi-line addresses in these documents. Now I need to work through them and manually verify that I have collected the correct addresses.\n",
    "\n",
    "Note: in some of these instances, I believe the performance of my code could be improved by tinkering with OCR. If I did something to increase the contrast of the text (make the text more readable by the machine), I think I would be capturing even more addresses from the invoices. I plan to revisit this at some point in the future."
   ]
  },
  {
   "cell_type": "code",
   "execution_count": 41,
   "metadata": {},
   "outputs": [
    {
     "data": {
      "text/plain": [
       "{'file': 'Invoice-template-example-for-a-marketing-firm.webp',\n",
       " 'text': 'KirkPatrick Marketing Co.\\n651 Emily Drive\\nColumbia, SC 29201\\n\\n503-951-7624 Invoice «2084\\nDecember 23.2023\\n\\nBILL TO\\n\\nAtionta, GA 30208\\n\\n404 571-1634\\n\\nDESCRIPTION HOURS RATE AMOUNT\\n\\nPua Laundry Services Logo Design 2 si0a $200\\n\\nInstagram Social Assets 2 si00 $300\\n\\nYour total amount due is . Thank\\nyou so much for your business.\\n\\n‘er month Maka ak checks payabie to KekPatrck Marketing Co,\\n'}"
      ]
     },
     "execution_count": 41,
     "metadata": {},
     "output_type": "execute_result"
    }
   ],
   "source": [
    "text_data[6]"
   ]
  },
  {
   "cell_type": "code",
   "execution_count": 42,
   "metadata": {},
   "outputs": [
    {
     "data": {
      "text/plain": [
       "['KirkPatrick Marketing Co.',\n",
       " '651 Emily Drive',\n",
       " 'Columbia, SC 29201',\n",
       " '503-951-7624 Invoice «2084',\n",
       " 'December 23.2023',\n",
       " 'BILL TO',\n",
       " 'Ationta, GA 30208',\n",
       " '404 571-1634',\n",
       " 'DESCRIPTION HOURS RATE AMOUNT',\n",
       " 'Pua Laundry Services Logo Design 2 si0a $200',\n",
       " 'Instagram Social Assets 2 si00 $300',\n",
       " 'Your total amount due is . Thank',\n",
       " 'you so much for your business.',\n",
       " '‘er month Maka ak checks payabie to KekPatrck Marketing Co,']"
      ]
     },
     "execution_count": 42,
     "metadata": {},
     "output_type": "execute_result"
    }
   ],
   "source": [
    "docs_as_lines[6]"
   ]
  },
  {
   "cell_type": "code",
   "execution_count": 45,
   "metadata": {},
   "outputs": [
    {
     "data": {
      "text/plain": [
       "{'file': 'invoice-template-us-band-blue-750px.png',\n",
       " 'text': 'East Repair Inc.\\n\\n1912 Harvest Lane\\nNew York, NY 12210\\n\\nBILLTO SHIP TO\\n\\nJohn Smith, John Smith\\n\\n2.Court Square 3787 Pineview Drive\\nNew York, NY 12210 Cambridge, MA 12210\\n\\nINVOICE # us-001\\nINVOICE DATE 11/02/2019\\nP.O.# 2312/2019\\nDUE DATE 26/02/2019\\n\\nInvoice Total\\n\\n$154.06\\n\\nQTY DESCRIPTION\\n\\n1 Front and rear brake cables\\n2 New set of pedal arms\\n\\n3 Labor 3hrs\\n\\nTERMS & CONDITIONS\\n\\nPayment is due within 15 days\\n\\nPlease make checks payable to: East Repair Inc.\\n\\nUNIT PRICE AMOUNT\\n100.00 100.00\\n\\n15.00 30.00\\n\\n5.00 15.00\\n\\nSubtotal 145.00\\n\\nSales Tax 6.25% 9.06\\n\\nSmith,\\n\\n'}"
      ]
     },
     "execution_count": 45,
     "metadata": {},
     "output_type": "execute_result"
    }
   ],
   "source": [
    "text_data[7]"
   ]
  },
  {
   "cell_type": "code",
   "execution_count": 46,
   "metadata": {},
   "outputs": [
    {
     "data": {
      "text/plain": [
       "['East Repair Inc.',\n",
       " '1912 Harvest Lane',\n",
       " 'New York, NY 12210',\n",
       " 'BILLTO SHIP TO',\n",
       " 'John Smith, John Smith',\n",
       " '2.Court Square 3787 Pineview Drive',\n",
       " 'New York, NY 12210 Cambridge, MA 12210',\n",
       " 'INVOICE # us-001',\n",
       " 'INVOICE DATE 11/02/2019',\n",
       " 'P.O.# 2312/2019',\n",
       " 'DUE DATE 26/02/2019',\n",
       " 'Invoice Total',\n",
       " '$154.06',\n",
       " 'QTY DESCRIPTION',\n",
       " '1 Front and rear brake cables',\n",
       " '2 New set of pedal arms',\n",
       " '3 Labor 3hrs',\n",
       " 'TERMS & CONDITIONS',\n",
       " 'Payment is due within 15 days',\n",
       " 'Please make checks payable to: East Repair Inc.',\n",
       " 'UNIT PRICE AMOUNT',\n",
       " '100.00 100.00',\n",
       " '15.00 30.00',\n",
       " '5.00 15.00',\n",
       " 'Subtotal 145.00',\n",
       " 'Sales Tax 6.25% 9.06',\n",
       " 'Smith,']"
      ]
     },
     "execution_count": 46,
     "metadata": {},
     "output_type": "execute_result"
    }
   ],
   "source": [
    "docs_as_lines[7]"
   ]
  },
  {
   "cell_type": "markdown",
   "metadata": {},
   "source": [
    "OK. I have new ideas.\n",
    "\n",
    "First: it's obvious the second half of the address is far more constrained. It's a more precise regex statement with almost no room for variation. I should scan the invoices for all matches to the SECOND half of an address, and then check the PREVIOUS line for something that matches the first part of an address. I didn't have any weird looking addresses in my initial test, however I believe this is a more accurate method to find addresses.\n",
    "\n",
    "Second: if I find the second half of an address, I should check that entire line for a full address BEFORE I check the previous line for the first half of the address. This would help me initially check for a one-liner, and if it was not present, resort to checking the previous line of text.\n",
    "\n",
    "Third: to allow for the case of multiple addresses present on the same two lines (this happens in invoices 7 and 8), I should do a findall on the SECOND regexpression (for City, ST ZIP) and check the number of resulting groups. If there is one group, I do a re.search on the previous line. If there are two groups, I do a re.findall on the previous line and \"align\" my addresses by taking group 0 from the second half and marrying it to group 0 from the first half.\n",
    "\n",
    "Fourth: the overall flow of the program should be something like this:  \n",
    "- Run a re.findall looking for the SECOND half of an address  \n",
    "- Evaluate the number of groups of matches present in the result\n",
    "    1. If it's just one..\n",
    "        - Look for an entire address match in the current line. If there is, great! Return it\n",
    "        - If there is not an entire match, search the previous line for the first half of an address\n",
    "    2. If it's two..\n",
    "        - Check for two complete addresses on the current line\n",
    "        - Find all matches to the FIRST half of an address on the previous line. Match group 0 with 0 and 1 with 1\n",
    "- There is a chance I find two second halves and one first half. If I improve my OCR code, this should be unlikely           \n",
    "\n",
    "Fifth: Some of the text is a little wonky after it's extracted. I need to go back and parameterize OCR better until I get pristine text results."
   ]
  },
  {
   "cell_type": "markdown",
   "metadata": {},
   "source": []
  }
 ],
 "metadata": {
  "kernelspec": {
   "display_name": "base",
   "language": "python",
   "name": "python3"
  },
  "language_info": {
   "codemirror_mode": {
    "name": "ipython",
    "version": 3
   },
   "file_extension": ".py",
   "mimetype": "text/x-python",
   "name": "python",
   "nbconvert_exporter": "python",
   "pygments_lexer": "ipython3",
   "version": "3.8.5"
  }
 },
 "nbformat": 4,
 "nbformat_minor": 2
}
