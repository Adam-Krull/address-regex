{
 "cells": [
  {
   "cell_type": "markdown",
   "metadata": {},
   "source": [
    "I have about 10 example invoices in the examples folder. The purpose of this document is to extract the text data from the images. I will use the [pytesseract](https://pypi.org/project/pytesseract/) library to achieve this. The library supports all image types present in my example folder: png, jpg, and webp. I will open one image at a time, extract the text information, and save it to a JSON object. If I can successfully capture the text information from all documents, I will save the JSON object and open it in a future notebook to perfect the regex required.\n",
    "\n",
    "Note: I had to download and install the [OCR engine](https://github.com/UB-Mannheim/tesseract/wiki), along with pip install pytesseract, in order to get this notebook to run."
   ]
  },
  {
   "cell_type": "code",
   "execution_count": 1,
   "metadata": {},
   "outputs": [],
   "source": [
    "import os\n",
    "import json\n",
    "from PIL import Image\n",
    "from pytesseract import pytesseract"
   ]
  },
  {
   "cell_type": "code",
   "execution_count": 4,
   "metadata": {},
   "outputs": [
    {
     "data": {
      "text/plain": [
       "['1131w-gU_JD5OzAAQ.webp',\n",
       " '1131w-zvoLwRH8Wys.webp',\n",
       " '609d5d3c4d120e370de52b70_invoice-lp-light-border.png',\n",
       " 'Commercial-invoice-example.png',\n",
       " 'IC-Business-Invoice-Template.jpg',\n",
       " 'invoice-freshbooks-business.jpg',\n",
       " 'Invoice-template-example-for-a-marketing-firm.webp',\n",
       " 'invoice-template-us-band-blue-750px.png',\n",
       " 'invoice-template-us-dexter-750px.png',\n",
       " 'services-invoice-with-hours-and-rate-green-modern-simple-1-1-f82c825b6ce1.webp',\n",
       " 'simple-invoice-template.png']"
      ]
     },
     "execution_count": 4,
     "metadata": {},
     "output_type": "execute_result"
    }
   ],
   "source": [
    "tesseract_path = 'C:/Program Files/Tesseract-OCR/tesseract.exe'\n",
    "pytesseract.tesseract_cmd = tesseract_path\n",
    "\n",
    "images = os.listdir('examples/')\n",
    "images"
   ]
  },
  {
   "cell_type": "code",
   "execution_count": 5,
   "metadata": {},
   "outputs": [
    {
     "data": {
      "text/plain": [
       "{'file': '1131w-gU_JD5OzAAQ.webp',\n",
       " 'text': 'INVOICE ZN\\n\\nWARDIERE INC.\\n\\nBILL TO:\\n\\nOlivia Wilson Date: 15/08/2028\\nhello@reallygreatsite.com\\n\\n123 Anywhere St., Any City, ST 12345 Invoice NO. 2000-15\\nFROM:\\n\\nWardiere Inc.\\nhello@reallygreatsite.com\\n123 Anywhere St., Any City, ST 12345,\\n\\nDESCRIPTION HOURS PRICE TOTAL\\n\\nGraphic design consultiation 2 $100.00 $200.00\\n\\nLogo design 1 $700.00 $700.00\\n\\nSocial media templates 1 $600.00 $600.00\\n\\nRevision 2. $300.00 $600.00\\n\\nTotal amount $2,100.00\\nPAYMENT METHOD NOTES\\n\\nBank name: Fauget\\nAccount No: 123-456-7890\\n\\nDate Thank youl Signature\\n\\nwww.reallygreatsite.com\\n'}"
      ]
     },
     "execution_count": 5,
     "metadata": {},
     "output_type": "execute_result"
    }
   ],
   "source": [
    "text_info = []\n",
    "\n",
    "for image_path in images:\n",
    "    image_info = {}\n",
    "    image_info['file'] = image_path\n",
    "\n",
    "    full_path = os.path.join('examples/', image_path)\n",
    "    image = Image.open(full_path)\n",
    "\n",
    "    text = pytesseract.image_to_string(image)\n",
    "    image_info['text'] = text\n",
    "    text_info.append(image_info)\n",
    "\n",
    "text_info[0]    "
   ]
  },
  {
   "cell_type": "markdown",
   "metadata": {},
   "source": [
    "The setup was much more of a pain than the code. I needed to upgrade the pillow library to the most recent version so it could handle webp images. Once I did that, it worked on the first try.\n",
    "\n",
    "After getting something to drink, I have determined that the pytesseract library is pretty cool. I'm going to save my JSON object and work with it in the next notebook."
   ]
  },
  {
   "cell_type": "code",
   "execution_count": 8,
   "metadata": {},
   "outputs": [],
   "source": [
    "with open('text_data.json', 'w') as f:\n",
    "    json.dump(text_info, f)"
   ]
  },
  {
   "cell_type": "code",
   "execution_count": null,
   "metadata": {},
   "outputs": [],
   "source": []
  }
 ],
 "metadata": {
  "kernelspec": {
   "display_name": "base",
   "language": "python",
   "name": "python3"
  },
  "language_info": {
   "codemirror_mode": {
    "name": "ipython",
    "version": 3
   },
   "file_extension": ".py",
   "mimetype": "text/x-python",
   "name": "python",
   "nbconvert_exporter": "python",
   "pygments_lexer": "ipython3",
   "version": "3.8.5"
  }
 },
 "nbformat": 4,
 "nbformat_minor": 2
}
